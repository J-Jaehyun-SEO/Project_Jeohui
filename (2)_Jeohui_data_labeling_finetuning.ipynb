{
  "nbformat": 4,
  "nbformat_minor": 0,
  "metadata": {
    "colab": {
      "provenance": [],
      "authorship_tag": "ABX9TyONCjJMa8X7tJXj1obcKyoZ",
      "include_colab_link": true
    },
    "kernelspec": {
      "name": "python3",
      "display_name": "Python 3"
    },
    "language_info": {
      "name": "python"
    }
  },
  "cells": [
    {
      "cell_type": "markdown",
      "metadata": {
        "id": "view-in-github",
        "colab_type": "text"
      },
      "source": [
        "<a href=\"https://colab.research.google.com/github/J-Jaehyun-SEO/Project_Jeohui/blob/main/(2)_Jeohui_data_labeling_finetuning.ipynb\" target=\"_parent\"><img src=\"https://colab.research.google.com/assets/colab-badge.svg\" alt=\"Open In Colab\"/></a>"
      ]
    },
    {
      "cell_type": "code",
      "source": [
        "##학습데이터 추출(레이블링용)\n",
        "# 필요한 패키지 설치\n",
        "!pip install --upgrade matplotlib kiwipiepy pandas tqdm konlpy xlsxwriter\n",
        "!pip install numpy==1.23.5"
      ],
      "metadata": {
        "id": "xZoNbPPg7NeH"
      },
      "execution_count": null,
      "outputs": []
    },
    {
      "cell_type": "code",
      "source": [
        "# 라이브러리 임포트\n",
        "import pandas as pd\n",
        "import numpy as np\n",
        "import re\n",
        "from tqdm import tqdm\n",
        "from kiwipiepy import Kiwi\n",
        "import matplotlib.pyplot as plt\n",
        "import matplotlib as mpl\n",
        "import pandas as pd\n",
        "import xlsxwriter\n",
        "\n",
        "# Output file path\n",
        "df['jeohee_sentence'] = df['jeohee_sentence'].astype(str)\n",
        "output_path = \"/content/학습용데이터/recent_df_0707-추출(sampled_df_2100)백업_1차.xlsx\""
      ],
      "metadata": {
        "id": "qoQQ3xoI7MEZ"
      },
      "execution_count": null,
      "outputs": []
    },
    {
      "cell_type": "code",
      "execution_count": null,
      "metadata": {
        "id": "vk380h4n7GCA"
      },
      "outputs": [],
      "source": [
        "# Create a new Excel file and add a worksheet\n",
        "workbook = xlsxwriter.Workbook(output_path)\n",
        "worksheet = workbook.add_worksheet(name='Extracted Sentences')\n",
        "\n",
        "# Define formats\n",
        "red_format = workbook.add_format({'font_color': 'red'})\n",
        "default_format = workbook.add_format({'font_color': 'black'})  # Default formatting\n",
        "\n",
        "# Write headers\n",
        "for col_num, value in enumerate(df.columns):\n",
        "    worksheet.write(0, col_num, value, default_format)\n",
        "\n",
        "# Iterate over rows to apply rich text formatting\n",
        "for idx, row in enumerate(df.itertuples(index=False), start=1):\n",
        "    for col_idx, value in enumerate(row):\n",
        "        if df.columns[col_idx] == 'jeohee_sentence':  # Apply formatting to 'jeohee_sentence' column\n",
        "            if isinstance(value, str) and value:  # Ensure the value is a non-empty string\n",
        "                parts = value.split('저희')\n",
        "                # Prepare the rich text with the appropriate formatting\n",
        "                rich_text = []\n",
        "                if parts[0]:\n",
        "                    rich_text = [default_format, parts[0]]\n",
        "                for part in parts[1:]:\n",
        "                    rich_text.extend([red_format, '저희', default_format, part])\n",
        "                # Write the rich string to the corresponding cell\n",
        "                if rich_text:\n",
        "                    worksheet.write_rich_string(idx, col_idx, *rich_text)\n",
        "                else:\n",
        "                    worksheet.write(idx, col_idx, value, default_format)\n",
        "            else:\n",
        "                worksheet.write(idx, col_idx, value, default_format)\n",
        "        else:\n",
        "            worksheet.write(idx, col_idx, value, default_format)\n",
        "\n",
        "# Close the workbook and save the file\n",
        "workbook.close()\n",
        "print(f\"Filtered data saved to {output_path}\")\n",
        "\n",
        "\n",
        "import pandas as pd\n",
        "\n",
        "# 연도별 데이터 비율 계산\n",
        "year_counts = new_df_jeohee['year'].value_counts(normalize=True)\n",
        "\n",
        "# 총 2100건 샘플링\n",
        "sampled_df = pd.DataFrame()\n",
        "for year, proportion in year_counts.items():\n",
        "    num_samples = round(proportion * 2100)\n",
        "    year_samples = new_df_jeohee[new_df_jeohee['year'] == year].sample(n=num_samples, random_state=1)\n",
        "    sampled_df = pd.concat([sampled_df, year_samples])\n",
        "\n",
        "# 인덱스 초기화 및 연도별 정렬\n",
        "sampled_df_2100 = sampled_df.reset_index(drop=True).sort_values(by='year', ascending=True)\n",
        "\n",
        "\n",
        "###Training 데이터 편집 및 추출\n",
        "\n",
        "# '저희' 포함 문장과 그 앞뒤 문장 추출\n",
        "new_rows = []\n",
        "for index, row in recent_news_df.iterrows():\n",
        "    # 'text' 컬럼이 NaN이 아닌 경우에만 처리\n",
        "    if pd.notna(row['text']):\n",
        "        text = str(row['text']).replace('\\n', ' ')  # 'text'를 문자열로 변환\n",
        "\n",
        "        # . , 。 , ! , ? 을 기준으로 문장 분리\n",
        "        sentences = re.split(r'(?<=[\\.!?。． ])', text)\n",
        "\n",
        "        for i, sent in enumerate(sentences):\n",
        "            if '저희' in sent:\n",
        "                new_row = row.to_dict()\n",
        "\n",
        "                context_sentences = []\n",
        "                if i > 0:\n",
        "                    context_sentences.append(sentences[i - 1].strip())\n",
        "                context_sentences.append(sent.strip())\n",
        "                if i < len(sentences) - 1:\n",
        "                    context_sentences.append(sentences[i + 1].strip())\n",
        "\n",
        "                new_row['context'] = ' '.join(context_sentences)\n",
        "                new_rows.append(new_row)\n",
        "\n",
        "new_df = pd.DataFrame(new_rows)\n",
        "\n",
        "# 결과 출력\n",
        "print(new_df)\n",
        "\n",
        "new_df = new_df.rename(columns={'Newspaper': 'publisher'})\n"
      ]
    }
  ]
}